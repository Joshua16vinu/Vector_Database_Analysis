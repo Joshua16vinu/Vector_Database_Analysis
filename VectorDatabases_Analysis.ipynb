{
  "nbformat": 4,
  "nbformat_minor": 0,
  "metadata": {
    "colab": {
      "provenance": []
    },
    "kernelspec": {
      "name": "python3",
      "display_name": "Python 3"
    },
    "language_info": {
      "name": "python"
    },
    "widgets": {
      "application/vnd.jupyter.widget-state+json": {
        "97733a4cf29a4e738dad2e7613d34bfb": {
          "model_module": "@jupyter-widgets/controls",
          "model_name": "HBoxModel",
          "model_module_version": "1.5.0",
          "state": {
            "_dom_classes": [],
            "_model_module": "@jupyter-widgets/controls",
            "_model_module_version": "1.5.0",
            "_model_name": "HBoxModel",
            "_view_count": null,
            "_view_module": "@jupyter-widgets/controls",
            "_view_module_version": "1.5.0",
            "_view_name": "HBoxView",
            "box_style": "",
            "children": [
              "IPY_MODEL_dd6772f4b0ce4d1ab546c8ef48ee2587",
              "IPY_MODEL_8a0dd02bd0bc4e519d5642143c64d6e1",
              "IPY_MODEL_c7a1dadeebaa47e3a24024d831dcd9f7"
            ],
            "layout": "IPY_MODEL_65b51fdbe8a64f22a0ee88a7d5a23fe4"
          }
        },
        "dd6772f4b0ce4d1ab546c8ef48ee2587": {
          "model_module": "@jupyter-widgets/controls",
          "model_name": "HTMLModel",
          "model_module_version": "1.5.0",
          "state": {
            "_dom_classes": [],
            "_model_module": "@jupyter-widgets/controls",
            "_model_module_version": "1.5.0",
            "_model_name": "HTMLModel",
            "_view_count": null,
            "_view_module": "@jupyter-widgets/controls",
            "_view_module_version": "1.5.0",
            "_view_name": "HTMLView",
            "description": "",
            "description_tooltip": null,
            "layout": "IPY_MODEL_28e7d7c09fd14578a73d3c22ce26e508",
            "placeholder": "​",
            "style": "IPY_MODEL_84d49ef1aaac4f8db59435e1d8e79adb",
            "value": "Batches: 100%"
          }
        },
        "8a0dd02bd0bc4e519d5642143c64d6e1": {
          "model_module": "@jupyter-widgets/controls",
          "model_name": "FloatProgressModel",
          "model_module_version": "1.5.0",
          "state": {
            "_dom_classes": [],
            "_model_module": "@jupyter-widgets/controls",
            "_model_module_version": "1.5.0",
            "_model_name": "FloatProgressModel",
            "_view_count": null,
            "_view_module": "@jupyter-widgets/controls",
            "_view_module_version": "1.5.0",
            "_view_name": "ProgressView",
            "bar_style": "success",
            "description": "",
            "description_tooltip": null,
            "layout": "IPY_MODEL_a87c083bb93c410899204a23c12374e3",
            "max": 253,
            "min": 0,
            "orientation": "horizontal",
            "style": "IPY_MODEL_f2681440d66f4c688c80df52c4863508",
            "value": 253
          }
        },
        "c7a1dadeebaa47e3a24024d831dcd9f7": {
          "model_module": "@jupyter-widgets/controls",
          "model_name": "HTMLModel",
          "model_module_version": "1.5.0",
          "state": {
            "_dom_classes": [],
            "_model_module": "@jupyter-widgets/controls",
            "_model_module_version": "1.5.0",
            "_model_name": "HTMLModel",
            "_view_count": null,
            "_view_module": "@jupyter-widgets/controls",
            "_view_module_version": "1.5.0",
            "_view_name": "HTMLView",
            "description": "",
            "description_tooltip": null,
            "layout": "IPY_MODEL_73fd3c0dc9dc4fc4acd16684e8c7a9e4",
            "placeholder": "​",
            "style": "IPY_MODEL_195367ebb17945989dcdf415f7de5fd1",
            "value": " 253/253 [01:22&lt;00:00,  9.06it/s]"
          }
        },
        "65b51fdbe8a64f22a0ee88a7d5a23fe4": {
          "model_module": "@jupyter-widgets/base",
          "model_name": "LayoutModel",
          "model_module_version": "1.2.0",
          "state": {
            "_model_module": "@jupyter-widgets/base",
            "_model_module_version": "1.2.0",
            "_model_name": "LayoutModel",
            "_view_count": null,
            "_view_module": "@jupyter-widgets/base",
            "_view_module_version": "1.2.0",
            "_view_name": "LayoutView",
            "align_content": null,
            "align_items": null,
            "align_self": null,
            "border": null,
            "bottom": null,
            "display": null,
            "flex": null,
            "flex_flow": null,
            "grid_area": null,
            "grid_auto_columns": null,
            "grid_auto_flow": null,
            "grid_auto_rows": null,
            "grid_column": null,
            "grid_gap": null,
            "grid_row": null,
            "grid_template_areas": null,
            "grid_template_columns": null,
            "grid_template_rows": null,
            "height": null,
            "justify_content": null,
            "justify_items": null,
            "left": null,
            "margin": null,
            "max_height": null,
            "max_width": null,
            "min_height": null,
            "min_width": null,
            "object_fit": null,
            "object_position": null,
            "order": null,
            "overflow": null,
            "overflow_x": null,
            "overflow_y": null,
            "padding": null,
            "right": null,
            "top": null,
            "visibility": null,
            "width": null
          }
        },
        "28e7d7c09fd14578a73d3c22ce26e508": {
          "model_module": "@jupyter-widgets/base",
          "model_name": "LayoutModel",
          "model_module_version": "1.2.0",
          "state": {
            "_model_module": "@jupyter-widgets/base",
            "_model_module_version": "1.2.0",
            "_model_name": "LayoutModel",
            "_view_count": null,
            "_view_module": "@jupyter-widgets/base",
            "_view_module_version": "1.2.0",
            "_view_name": "LayoutView",
            "align_content": null,
            "align_items": null,
            "align_self": null,
            "border": null,
            "bottom": null,
            "display": null,
            "flex": null,
            "flex_flow": null,
            "grid_area": null,
            "grid_auto_columns": null,
            "grid_auto_flow": null,
            "grid_auto_rows": null,
            "grid_column": null,
            "grid_gap": null,
            "grid_row": null,
            "grid_template_areas": null,
            "grid_template_columns": null,
            "grid_template_rows": null,
            "height": null,
            "justify_content": null,
            "justify_items": null,
            "left": null,
            "margin": null,
            "max_height": null,
            "max_width": null,
            "min_height": null,
            "min_width": null,
            "object_fit": null,
            "object_position": null,
            "order": null,
            "overflow": null,
            "overflow_x": null,
            "overflow_y": null,
            "padding": null,
            "right": null,
            "top": null,
            "visibility": null,
            "width": null
          }
        },
        "84d49ef1aaac4f8db59435e1d8e79adb": {
          "model_module": "@jupyter-widgets/controls",
          "model_name": "DescriptionStyleModel",
          "model_module_version": "1.5.0",
          "state": {
            "_model_module": "@jupyter-widgets/controls",
            "_model_module_version": "1.5.0",
            "_model_name": "DescriptionStyleModel",
            "_view_count": null,
            "_view_module": "@jupyter-widgets/base",
            "_view_module_version": "1.2.0",
            "_view_name": "StyleView",
            "description_width": ""
          }
        },
        "a87c083bb93c410899204a23c12374e3": {
          "model_module": "@jupyter-widgets/base",
          "model_name": "LayoutModel",
          "model_module_version": "1.2.0",
          "state": {
            "_model_module": "@jupyter-widgets/base",
            "_model_module_version": "1.2.0",
            "_model_name": "LayoutModel",
            "_view_count": null,
            "_view_module": "@jupyter-widgets/base",
            "_view_module_version": "1.2.0",
            "_view_name": "LayoutView",
            "align_content": null,
            "align_items": null,
            "align_self": null,
            "border": null,
            "bottom": null,
            "display": null,
            "flex": null,
            "flex_flow": null,
            "grid_area": null,
            "grid_auto_columns": null,
            "grid_auto_flow": null,
            "grid_auto_rows": null,
            "grid_column": null,
            "grid_gap": null,
            "grid_row": null,
            "grid_template_areas": null,
            "grid_template_columns": null,
            "grid_template_rows": null,
            "height": null,
            "justify_content": null,
            "justify_items": null,
            "left": null,
            "margin": null,
            "max_height": null,
            "max_width": null,
            "min_height": null,
            "min_width": null,
            "object_fit": null,
            "object_position": null,
            "order": null,
            "overflow": null,
            "overflow_x": null,
            "overflow_y": null,
            "padding": null,
            "right": null,
            "top": null,
            "visibility": null,
            "width": null
          }
        },
        "f2681440d66f4c688c80df52c4863508": {
          "model_module": "@jupyter-widgets/controls",
          "model_name": "ProgressStyleModel",
          "model_module_version": "1.5.0",
          "state": {
            "_model_module": "@jupyter-widgets/controls",
            "_model_module_version": "1.5.0",
            "_model_name": "ProgressStyleModel",
            "_view_count": null,
            "_view_module": "@jupyter-widgets/base",
            "_view_module_version": "1.2.0",
            "_view_name": "StyleView",
            "bar_color": null,
            "description_width": ""
          }
        },
        "73fd3c0dc9dc4fc4acd16684e8c7a9e4": {
          "model_module": "@jupyter-widgets/base",
          "model_name": "LayoutModel",
          "model_module_version": "1.2.0",
          "state": {
            "_model_module": "@jupyter-widgets/base",
            "_model_module_version": "1.2.0",
            "_model_name": "LayoutModel",
            "_view_count": null,
            "_view_module": "@jupyter-widgets/base",
            "_view_module_version": "1.2.0",
            "_view_name": "LayoutView",
            "align_content": null,
            "align_items": null,
            "align_self": null,
            "border": null,
            "bottom": null,
            "display": null,
            "flex": null,
            "flex_flow": null,
            "grid_area": null,
            "grid_auto_columns": null,
            "grid_auto_flow": null,
            "grid_auto_rows": null,
            "grid_column": null,
            "grid_gap": null,
            "grid_row": null,
            "grid_template_areas": null,
            "grid_template_columns": null,
            "grid_template_rows": null,
            "height": null,
            "justify_content": null,
            "justify_items": null,
            "left": null,
            "margin": null,
            "max_height": null,
            "max_width": null,
            "min_height": null,
            "min_width": null,
            "object_fit": null,
            "object_position": null,
            "order": null,
            "overflow": null,
            "overflow_x": null,
            "overflow_y": null,
            "padding": null,
            "right": null,
            "top": null,
            "visibility": null,
            "width": null
          }
        },
        "195367ebb17945989dcdf415f7de5fd1": {
          "model_module": "@jupyter-widgets/controls",
          "model_name": "DescriptionStyleModel",
          "model_module_version": "1.5.0",
          "state": {
            "_model_module": "@jupyter-widgets/controls",
            "_model_module_version": "1.5.0",
            "_model_name": "DescriptionStyleModel",
            "_view_count": null,
            "_view_module": "@jupyter-widgets/base",
            "_view_module_version": "1.2.0",
            "_view_name": "StyleView",
            "description_width": ""
          }
        },
        "26fc03412deb40a08ebea54bc01fb4f6": {
          "model_module": "@jupyter-widgets/controls",
          "model_name": "HBoxModel",
          "model_module_version": "1.5.0",
          "state": {
            "_dom_classes": [],
            "_model_module": "@jupyter-widgets/controls",
            "_model_module_version": "1.5.0",
            "_model_name": "HBoxModel",
            "_view_count": null,
            "_view_module": "@jupyter-widgets/controls",
            "_view_module_version": "1.5.0",
            "_view_name": "HBoxView",
            "box_style": "",
            "children": [
              "IPY_MODEL_badcfcfad9f844f0818c9bfb452f5d9d",
              "IPY_MODEL_5bbcaf2b12ea483bbc8c2c49cacb0ed2",
              "IPY_MODEL_6dec797ded8f4878b8919240047f262e"
            ],
            "layout": "IPY_MODEL_9c94794f947848edbeff7fcedaf92076"
          }
        },
        "badcfcfad9f844f0818c9bfb452f5d9d": {
          "model_module": "@jupyter-widgets/controls",
          "model_name": "HTMLModel",
          "model_module_version": "1.5.0",
          "state": {
            "_dom_classes": [],
            "_model_module": "@jupyter-widgets/controls",
            "_model_module_version": "1.5.0",
            "_model_name": "HTMLModel",
            "_view_count": null,
            "_view_module": "@jupyter-widgets/controls",
            "_view_module_version": "1.5.0",
            "_view_name": "HTMLView",
            "description": "",
            "description_tooltip": null,
            "layout": "IPY_MODEL_42ce852fcbe4470fba8d9afacff532e6",
            "placeholder": "​",
            "style": "IPY_MODEL_33264d4ebcf84c738979a68480113145",
            "value": "Batches: 100%"
          }
        },
        "5bbcaf2b12ea483bbc8c2c49cacb0ed2": {
          "model_module": "@jupyter-widgets/controls",
          "model_name": "FloatProgressModel",
          "model_module_version": "1.5.0",
          "state": {
            "_dom_classes": [],
            "_model_module": "@jupyter-widgets/controls",
            "_model_module_version": "1.5.0",
            "_model_name": "FloatProgressModel",
            "_view_count": null,
            "_view_module": "@jupyter-widgets/controls",
            "_view_module_version": "1.5.0",
            "_view_name": "ProgressView",
            "bar_style": "success",
            "description": "",
            "description_tooltip": null,
            "layout": "IPY_MODEL_ba697f45776b4a7e94656be00d5cde8d",
            "max": 114,
            "min": 0,
            "orientation": "horizontal",
            "style": "IPY_MODEL_7372a3b9e31342d0a3caf582606d1a0d",
            "value": 114
          }
        },
        "6dec797ded8f4878b8919240047f262e": {
          "model_module": "@jupyter-widgets/controls",
          "model_name": "HTMLModel",
          "model_module_version": "1.5.0",
          "state": {
            "_dom_classes": [],
            "_model_module": "@jupyter-widgets/controls",
            "_model_module_version": "1.5.0",
            "_model_name": "HTMLModel",
            "_view_count": null,
            "_view_module": "@jupyter-widgets/controls",
            "_view_module_version": "1.5.0",
            "_view_name": "HTMLView",
            "description": "",
            "description_tooltip": null,
            "layout": "IPY_MODEL_c59063c30a6e4fb69211ced6722ba3d4",
            "placeholder": "​",
            "style": "IPY_MODEL_237c39387f234adfa9f1c0ffe4bb5879",
            "value": " 114/114 [00:59&lt;00:00,  2.83it/s]"
          }
        },
        "9c94794f947848edbeff7fcedaf92076": {
          "model_module": "@jupyter-widgets/base",
          "model_name": "LayoutModel",
          "model_module_version": "1.2.0",
          "state": {
            "_model_module": "@jupyter-widgets/base",
            "_model_module_version": "1.2.0",
            "_model_name": "LayoutModel",
            "_view_count": null,
            "_view_module": "@jupyter-widgets/base",
            "_view_module_version": "1.2.0",
            "_view_name": "LayoutView",
            "align_content": null,
            "align_items": null,
            "align_self": null,
            "border": null,
            "bottom": null,
            "display": null,
            "flex": null,
            "flex_flow": null,
            "grid_area": null,
            "grid_auto_columns": null,
            "grid_auto_flow": null,
            "grid_auto_rows": null,
            "grid_column": null,
            "grid_gap": null,
            "grid_row": null,
            "grid_template_areas": null,
            "grid_template_columns": null,
            "grid_template_rows": null,
            "height": null,
            "justify_content": null,
            "justify_items": null,
            "left": null,
            "margin": null,
            "max_height": null,
            "max_width": null,
            "min_height": null,
            "min_width": null,
            "object_fit": null,
            "object_position": null,
            "order": null,
            "overflow": null,
            "overflow_x": null,
            "overflow_y": null,
            "padding": null,
            "right": null,
            "top": null,
            "visibility": null,
            "width": null
          }
        },
        "42ce852fcbe4470fba8d9afacff532e6": {
          "model_module": "@jupyter-widgets/base",
          "model_name": "LayoutModel",
          "model_module_version": "1.2.0",
          "state": {
            "_model_module": "@jupyter-widgets/base",
            "_model_module_version": "1.2.0",
            "_model_name": "LayoutModel",
            "_view_count": null,
            "_view_module": "@jupyter-widgets/base",
            "_view_module_version": "1.2.0",
            "_view_name": "LayoutView",
            "align_content": null,
            "align_items": null,
            "align_self": null,
            "border": null,
            "bottom": null,
            "display": null,
            "flex": null,
            "flex_flow": null,
            "grid_area": null,
            "grid_auto_columns": null,
            "grid_auto_flow": null,
            "grid_auto_rows": null,
            "grid_column": null,
            "grid_gap": null,
            "grid_row": null,
            "grid_template_areas": null,
            "grid_template_columns": null,
            "grid_template_rows": null,
            "height": null,
            "justify_content": null,
            "justify_items": null,
            "left": null,
            "margin": null,
            "max_height": null,
            "max_width": null,
            "min_height": null,
            "min_width": null,
            "object_fit": null,
            "object_position": null,
            "order": null,
            "overflow": null,
            "overflow_x": null,
            "overflow_y": null,
            "padding": null,
            "right": null,
            "top": null,
            "visibility": null,
            "width": null
          }
        },
        "33264d4ebcf84c738979a68480113145": {
          "model_module": "@jupyter-widgets/controls",
          "model_name": "DescriptionStyleModel",
          "model_module_version": "1.5.0",
          "state": {
            "_model_module": "@jupyter-widgets/controls",
            "_model_module_version": "1.5.0",
            "_model_name": "DescriptionStyleModel",
            "_view_count": null,
            "_view_module": "@jupyter-widgets/base",
            "_view_module_version": "1.2.0",
            "_view_name": "StyleView",
            "description_width": ""
          }
        },
        "ba697f45776b4a7e94656be00d5cde8d": {
          "model_module": "@jupyter-widgets/base",
          "model_name": "LayoutModel",
          "model_module_version": "1.2.0",
          "state": {
            "_model_module": "@jupyter-widgets/base",
            "_model_module_version": "1.2.0",
            "_model_name": "LayoutModel",
            "_view_count": null,
            "_view_module": "@jupyter-widgets/base",
            "_view_module_version": "1.2.0",
            "_view_name": "LayoutView",
            "align_content": null,
            "align_items": null,
            "align_self": null,
            "border": null,
            "bottom": null,
            "display": null,
            "flex": null,
            "flex_flow": null,
            "grid_area": null,
            "grid_auto_columns": null,
            "grid_auto_flow": null,
            "grid_auto_rows": null,
            "grid_column": null,
            "grid_gap": null,
            "grid_row": null,
            "grid_template_areas": null,
            "grid_template_columns": null,
            "grid_template_rows": null,
            "height": null,
            "justify_content": null,
            "justify_items": null,
            "left": null,
            "margin": null,
            "max_height": null,
            "max_width": null,
            "min_height": null,
            "min_width": null,
            "object_fit": null,
            "object_position": null,
            "order": null,
            "overflow": null,
            "overflow_x": null,
            "overflow_y": null,
            "padding": null,
            "right": null,
            "top": null,
            "visibility": null,
            "width": null
          }
        },
        "7372a3b9e31342d0a3caf582606d1a0d": {
          "model_module": "@jupyter-widgets/controls",
          "model_name": "ProgressStyleModel",
          "model_module_version": "1.5.0",
          "state": {
            "_model_module": "@jupyter-widgets/controls",
            "_model_module_version": "1.5.0",
            "_model_name": "ProgressStyleModel",
            "_view_count": null,
            "_view_module": "@jupyter-widgets/base",
            "_view_module_version": "1.2.0",
            "_view_name": "StyleView",
            "bar_color": null,
            "description_width": ""
          }
        },
        "c59063c30a6e4fb69211ced6722ba3d4": {
          "model_module": "@jupyter-widgets/base",
          "model_name": "LayoutModel",
          "model_module_version": "1.2.0",
          "state": {
            "_model_module": "@jupyter-widgets/base",
            "_model_module_version": "1.2.0",
            "_model_name": "LayoutModel",
            "_view_count": null,
            "_view_module": "@jupyter-widgets/base",
            "_view_module_version": "1.2.0",
            "_view_name": "LayoutView",
            "align_content": null,
            "align_items": null,
            "align_self": null,
            "border": null,
            "bottom": null,
            "display": null,
            "flex": null,
            "flex_flow": null,
            "grid_area": null,
            "grid_auto_columns": null,
            "grid_auto_flow": null,
            "grid_auto_rows": null,
            "grid_column": null,
            "grid_gap": null,
            "grid_row": null,
            "grid_template_areas": null,
            "grid_template_columns": null,
            "grid_template_rows": null,
            "height": null,
            "justify_content": null,
            "justify_items": null,
            "left": null,
            "margin": null,
            "max_height": null,
            "max_width": null,
            "min_height": null,
            "min_width": null,
            "object_fit": null,
            "object_position": null,
            "order": null,
            "overflow": null,
            "overflow_x": null,
            "overflow_y": null,
            "padding": null,
            "right": null,
            "top": null,
            "visibility": null,
            "width": null
          }
        },
        "237c39387f234adfa9f1c0ffe4bb5879": {
          "model_module": "@jupyter-widgets/controls",
          "model_name": "DescriptionStyleModel",
          "model_module_version": "1.5.0",
          "state": {
            "_model_module": "@jupyter-widgets/controls",
            "_model_module_version": "1.5.0",
            "_model_name": "DescriptionStyleModel",
            "_view_count": null,
            "_view_module": "@jupyter-widgets/base",
            "_view_module_version": "1.2.0",
            "_view_name": "StyleView",
            "description_width": ""
          }
        }
      }
    }
  },
  "cells": [
    {
      "cell_type": "code",
      "execution_count": 3,
      "metadata": {
        "colab": {
          "base_uri": "https://localhost:8080/"
        },
        "id": "RO4yV_oYwLle",
        "outputId": "717b6c64-2cc1-4b1b-e161-13f714a17414"
      },
      "outputs": [
        {
          "output_type": "stream",
          "name": "stdout",
          "text": [
            "Requirement already satisfied: chromadb in /usr/local/lib/python3.11/dist-packages (1.0.17)\n",
            "Requirement already satisfied: faiss-cpu in /usr/local/lib/python3.11/dist-packages (1.12.0)\n",
            "Requirement already satisfied: sentence-transformers in /usr/local/lib/python3.11/dist-packages (5.1.0)\n",
            "Requirement already satisfied: langchain in /usr/local/lib/python3.11/dist-packages (0.3.27)\n",
            "Requirement already satisfied: build>=1.0.3 in /usr/local/lib/python3.11/dist-packages (from chromadb) (1.3.0)\n",
            "Requirement already satisfied: pydantic>=1.9 in /usr/local/lib/python3.11/dist-packages (from chromadb) (2.11.7)\n",
            "Requirement already satisfied: pybase64>=1.4.1 in /usr/local/lib/python3.11/dist-packages (from chromadb) (1.4.2)\n",
            "Requirement already satisfied: uvicorn>=0.18.3 in /usr/local/lib/python3.11/dist-packages (from uvicorn[standard]>=0.18.3->chromadb) (0.35.0)\n",
            "Requirement already satisfied: numpy>=1.22.5 in /usr/local/lib/python3.11/dist-packages (from chromadb) (2.0.2)\n",
            "Requirement already satisfied: posthog<6.0.0,>=2.4.0 in /usr/local/lib/python3.11/dist-packages (from chromadb) (5.4.0)\n",
            "Requirement already satisfied: typing-extensions>=4.5.0 in /usr/local/lib/python3.11/dist-packages (from chromadb) (4.14.1)\n",
            "Requirement already satisfied: onnxruntime>=1.14.1 in /usr/local/lib/python3.11/dist-packages (from chromadb) (1.22.1)\n",
            "Requirement already satisfied: opentelemetry-api>=1.2.0 in /usr/local/lib/python3.11/dist-packages (from chromadb) (1.36.0)\n",
            "Requirement already satisfied: opentelemetry-exporter-otlp-proto-grpc>=1.2.0 in /usr/local/lib/python3.11/dist-packages (from chromadb) (1.36.0)\n",
            "Requirement already satisfied: opentelemetry-sdk>=1.2.0 in /usr/local/lib/python3.11/dist-packages (from chromadb) (1.36.0)\n",
            "Requirement already satisfied: tokenizers>=0.13.2 in /usr/local/lib/python3.11/dist-packages (from chromadb) (0.21.4)\n",
            "Requirement already satisfied: pypika>=0.48.9 in /usr/local/lib/python3.11/dist-packages (from chromadb) (0.48.9)\n",
            "Requirement already satisfied: tqdm>=4.65.0 in /usr/local/lib/python3.11/dist-packages (from chromadb) (4.67.1)\n",
            "Requirement already satisfied: overrides>=7.3.1 in /usr/local/lib/python3.11/dist-packages (from chromadb) (7.7.0)\n",
            "Requirement already satisfied: importlib-resources in /usr/local/lib/python3.11/dist-packages (from chromadb) (6.5.2)\n",
            "Requirement already satisfied: grpcio>=1.58.0 in /usr/local/lib/python3.11/dist-packages (from chromadb) (1.74.0)\n",
            "Requirement already satisfied: bcrypt>=4.0.1 in /usr/local/lib/python3.11/dist-packages (from chromadb) (4.3.0)\n",
            "Requirement already satisfied: typer>=0.9.0 in /usr/local/lib/python3.11/dist-packages (from chromadb) (0.16.0)\n",
            "Requirement already satisfied: kubernetes>=28.1.0 in /usr/local/lib/python3.11/dist-packages (from chromadb) (33.1.0)\n",
            "Requirement already satisfied: tenacity>=8.2.3 in /usr/local/lib/python3.11/dist-packages (from chromadb) (9.1.2)\n",
            "Requirement already satisfied: pyyaml>=6.0.0 in /usr/local/lib/python3.11/dist-packages (from chromadb) (6.0.2)\n",
            "Requirement already satisfied: mmh3>=4.0.1 in /usr/local/lib/python3.11/dist-packages (from chromadb) (5.2.0)\n",
            "Requirement already satisfied: orjson>=3.9.12 in /usr/local/lib/python3.11/dist-packages (from chromadb) (3.11.2)\n",
            "Requirement already satisfied: httpx>=0.27.0 in /usr/local/lib/python3.11/dist-packages (from chromadb) (0.28.1)\n",
            "Requirement already satisfied: rich>=10.11.0 in /usr/local/lib/python3.11/dist-packages (from chromadb) (13.9.4)\n",
            "Requirement already satisfied: jsonschema>=4.19.0 in /usr/local/lib/python3.11/dist-packages (from chromadb) (4.25.0)\n",
            "Requirement already satisfied: packaging in /usr/local/lib/python3.11/dist-packages (from faiss-cpu) (25.0)\n",
            "Requirement already satisfied: transformers<5.0.0,>=4.41.0 in /usr/local/lib/python3.11/dist-packages (from sentence-transformers) (4.55.1)\n",
            "Requirement already satisfied: torch>=1.11.0 in /usr/local/lib/python3.11/dist-packages (from sentence-transformers) (2.6.0+cu124)\n",
            "Requirement already satisfied: scikit-learn in /usr/local/lib/python3.11/dist-packages (from sentence-transformers) (1.6.1)\n",
            "Requirement already satisfied: scipy in /usr/local/lib/python3.11/dist-packages (from sentence-transformers) (1.16.1)\n",
            "Requirement already satisfied: huggingface-hub>=0.20.0 in /usr/local/lib/python3.11/dist-packages (from sentence-transformers) (0.34.4)\n",
            "Requirement already satisfied: Pillow in /usr/local/lib/python3.11/dist-packages (from sentence-transformers) (11.3.0)\n",
            "Requirement already satisfied: langchain-core<1.0.0,>=0.3.72 in /usr/local/lib/python3.11/dist-packages (from langchain) (0.3.74)\n",
            "Requirement already satisfied: langchain-text-splitters<1.0.0,>=0.3.9 in /usr/local/lib/python3.11/dist-packages (from langchain) (0.3.9)\n",
            "Requirement already satisfied: langsmith>=0.1.17 in /usr/local/lib/python3.11/dist-packages (from langchain) (0.4.14)\n",
            "Requirement already satisfied: SQLAlchemy<3,>=1.4 in /usr/local/lib/python3.11/dist-packages (from langchain) (2.0.43)\n",
            "Requirement already satisfied: requests<3,>=2 in /usr/local/lib/python3.11/dist-packages (from langchain) (2.32.3)\n",
            "Requirement already satisfied: pyproject_hooks in /usr/local/lib/python3.11/dist-packages (from build>=1.0.3->chromadb) (1.2.0)\n",
            "Requirement already satisfied: anyio in /usr/local/lib/python3.11/dist-packages (from httpx>=0.27.0->chromadb) (4.10.0)\n",
            "Requirement already satisfied: certifi in /usr/local/lib/python3.11/dist-packages (from httpx>=0.27.0->chromadb) (2025.8.3)\n",
            "Requirement already satisfied: httpcore==1.* in /usr/local/lib/python3.11/dist-packages (from httpx>=0.27.0->chromadb) (1.0.9)\n",
            "Requirement already satisfied: idna in /usr/local/lib/python3.11/dist-packages (from httpx>=0.27.0->chromadb) (3.10)\n",
            "Requirement already satisfied: h11>=0.16 in /usr/local/lib/python3.11/dist-packages (from httpcore==1.*->httpx>=0.27.0->chromadb) (0.16.0)\n",
            "Requirement already satisfied: filelock in /usr/local/lib/python3.11/dist-packages (from huggingface-hub>=0.20.0->sentence-transformers) (3.18.0)\n",
            "Requirement already satisfied: fsspec>=2023.5.0 in /usr/local/lib/python3.11/dist-packages (from huggingface-hub>=0.20.0->sentence-transformers) (2025.3.0)\n",
            "Requirement already satisfied: hf-xet<2.0.0,>=1.1.3 in /usr/local/lib/python3.11/dist-packages (from huggingface-hub>=0.20.0->sentence-transformers) (1.1.7)\n",
            "Requirement already satisfied: attrs>=22.2.0 in /usr/local/lib/python3.11/dist-packages (from jsonschema>=4.19.0->chromadb) (25.3.0)\n",
            "Requirement already satisfied: jsonschema-specifications>=2023.03.6 in /usr/local/lib/python3.11/dist-packages (from jsonschema>=4.19.0->chromadb) (2025.4.1)\n",
            "Requirement already satisfied: referencing>=0.28.4 in /usr/local/lib/python3.11/dist-packages (from jsonschema>=4.19.0->chromadb) (0.36.2)\n",
            "Requirement already satisfied: rpds-py>=0.7.1 in /usr/local/lib/python3.11/dist-packages (from jsonschema>=4.19.0->chromadb) (0.27.0)\n",
            "Requirement already satisfied: six>=1.9.0 in /usr/local/lib/python3.11/dist-packages (from kubernetes>=28.1.0->chromadb) (1.17.0)\n",
            "Requirement already satisfied: python-dateutil>=2.5.3 in /usr/local/lib/python3.11/dist-packages (from kubernetes>=28.1.0->chromadb) (2.9.0.post0)\n",
            "Requirement already satisfied: google-auth>=1.0.1 in /usr/local/lib/python3.11/dist-packages (from kubernetes>=28.1.0->chromadb) (2.38.0)\n",
            "Requirement already satisfied: websocket-client!=0.40.0,!=0.41.*,!=0.42.*,>=0.32.0 in /usr/local/lib/python3.11/dist-packages (from kubernetes>=28.1.0->chromadb) (1.8.0)\n",
            "Requirement already satisfied: requests-oauthlib in /usr/local/lib/python3.11/dist-packages (from kubernetes>=28.1.0->chromadb) (2.0.0)\n",
            "Requirement already satisfied: oauthlib>=3.2.2 in /usr/local/lib/python3.11/dist-packages (from kubernetes>=28.1.0->chromadb) (3.3.1)\n",
            "Requirement already satisfied: urllib3>=1.24.2 in /usr/local/lib/python3.11/dist-packages (from kubernetes>=28.1.0->chromadb) (2.5.0)\n",
            "Requirement already satisfied: durationpy>=0.7 in /usr/local/lib/python3.11/dist-packages (from kubernetes>=28.1.0->chromadb) (0.10)\n",
            "Requirement already satisfied: jsonpatch<2.0,>=1.33 in /usr/local/lib/python3.11/dist-packages (from langchain-core<1.0.0,>=0.3.72->langchain) (1.33)\n",
            "Requirement already satisfied: requests-toolbelt>=1.0.0 in /usr/local/lib/python3.11/dist-packages (from langsmith>=0.1.17->langchain) (1.0.0)\n",
            "Requirement already satisfied: zstandard>=0.23.0 in /usr/local/lib/python3.11/dist-packages (from langsmith>=0.1.17->langchain) (0.23.0)\n",
            "Requirement already satisfied: coloredlogs in /usr/local/lib/python3.11/dist-packages (from onnxruntime>=1.14.1->chromadb) (15.0.1)\n",
            "Requirement already satisfied: flatbuffers in /usr/local/lib/python3.11/dist-packages (from onnxruntime>=1.14.1->chromadb) (25.2.10)\n",
            "Requirement already satisfied: protobuf in /usr/local/lib/python3.11/dist-packages (from onnxruntime>=1.14.1->chromadb) (5.29.5)\n",
            "Requirement already satisfied: sympy in /usr/local/lib/python3.11/dist-packages (from onnxruntime>=1.14.1->chromadb) (1.13.1)\n",
            "Requirement already satisfied: importlib-metadata<8.8.0,>=6.0 in /usr/local/lib/python3.11/dist-packages (from opentelemetry-api>=1.2.0->chromadb) (8.7.0)\n",
            "Requirement already satisfied: googleapis-common-protos~=1.57 in /usr/local/lib/python3.11/dist-packages (from opentelemetry-exporter-otlp-proto-grpc>=1.2.0->chromadb) (1.70.0)\n",
            "Requirement already satisfied: opentelemetry-exporter-otlp-proto-common==1.36.0 in /usr/local/lib/python3.11/dist-packages (from opentelemetry-exporter-otlp-proto-grpc>=1.2.0->chromadb) (1.36.0)\n",
            "Requirement already satisfied: opentelemetry-proto==1.36.0 in /usr/local/lib/python3.11/dist-packages (from opentelemetry-exporter-otlp-proto-grpc>=1.2.0->chromadb) (1.36.0)\n",
            "Requirement already satisfied: opentelemetry-semantic-conventions==0.57b0 in /usr/local/lib/python3.11/dist-packages (from opentelemetry-sdk>=1.2.0->chromadb) (0.57b0)\n",
            "Requirement already satisfied: backoff>=1.10.0 in /usr/local/lib/python3.11/dist-packages (from posthog<6.0.0,>=2.4.0->chromadb) (2.2.1)\n",
            "Requirement already satisfied: distro>=1.5.0 in /usr/local/lib/python3.11/dist-packages (from posthog<6.0.0,>=2.4.0->chromadb) (1.9.0)\n",
            "Requirement already satisfied: annotated-types>=0.6.0 in /usr/local/lib/python3.11/dist-packages (from pydantic>=1.9->chromadb) (0.7.0)\n",
            "Requirement already satisfied: pydantic-core==2.33.2 in /usr/local/lib/python3.11/dist-packages (from pydantic>=1.9->chromadb) (2.33.2)\n",
            "Requirement already satisfied: typing-inspection>=0.4.0 in /usr/local/lib/python3.11/dist-packages (from pydantic>=1.9->chromadb) (0.4.1)\n",
            "Requirement already satisfied: charset-normalizer<4,>=2 in /usr/local/lib/python3.11/dist-packages (from requests<3,>=2->langchain) (3.4.3)\n",
            "Requirement already satisfied: markdown-it-py>=2.2.0 in /usr/local/lib/python3.11/dist-packages (from rich>=10.11.0->chromadb) (4.0.0)\n",
            "Requirement already satisfied: pygments<3.0.0,>=2.13.0 in /usr/local/lib/python3.11/dist-packages (from rich>=10.11.0->chromadb) (2.19.2)\n",
            "Requirement already satisfied: greenlet>=1 in /usr/local/lib/python3.11/dist-packages (from SQLAlchemy<3,>=1.4->langchain) (3.2.4)\n",
            "Requirement already satisfied: networkx in /usr/local/lib/python3.11/dist-packages (from torch>=1.11.0->sentence-transformers) (3.5)\n",
            "Requirement already satisfied: jinja2 in /usr/local/lib/python3.11/dist-packages (from torch>=1.11.0->sentence-transformers) (3.1.6)\n",
            "Requirement already satisfied: nvidia-cuda-nvrtc-cu12==12.4.127 in /usr/local/lib/python3.11/dist-packages (from torch>=1.11.0->sentence-transformers) (12.4.127)\n",
            "Requirement already satisfied: nvidia-cuda-runtime-cu12==12.4.127 in /usr/local/lib/python3.11/dist-packages (from torch>=1.11.0->sentence-transformers) (12.4.127)\n",
            "Requirement already satisfied: nvidia-cuda-cupti-cu12==12.4.127 in /usr/local/lib/python3.11/dist-packages (from torch>=1.11.0->sentence-transformers) (12.4.127)\n",
            "Requirement already satisfied: nvidia-cudnn-cu12==9.1.0.70 in /usr/local/lib/python3.11/dist-packages (from torch>=1.11.0->sentence-transformers) (9.1.0.70)\n",
            "Requirement already satisfied: nvidia-cublas-cu12==12.4.5.8 in /usr/local/lib/python3.11/dist-packages (from torch>=1.11.0->sentence-transformers) (12.4.5.8)\n",
            "Requirement already satisfied: nvidia-cufft-cu12==11.2.1.3 in /usr/local/lib/python3.11/dist-packages (from torch>=1.11.0->sentence-transformers) (11.2.1.3)\n",
            "Requirement already satisfied: nvidia-curand-cu12==10.3.5.147 in /usr/local/lib/python3.11/dist-packages (from torch>=1.11.0->sentence-transformers) (10.3.5.147)\n",
            "Requirement already satisfied: nvidia-cusolver-cu12==11.6.1.9 in /usr/local/lib/python3.11/dist-packages (from torch>=1.11.0->sentence-transformers) (11.6.1.9)\n",
            "Requirement already satisfied: nvidia-cusparse-cu12==12.3.1.170 in /usr/local/lib/python3.11/dist-packages (from torch>=1.11.0->sentence-transformers) (12.3.1.170)\n",
            "Requirement already satisfied: nvidia-cusparselt-cu12==0.6.2 in /usr/local/lib/python3.11/dist-packages (from torch>=1.11.0->sentence-transformers) (0.6.2)\n",
            "Requirement already satisfied: nvidia-nccl-cu12==2.21.5 in /usr/local/lib/python3.11/dist-packages (from torch>=1.11.0->sentence-transformers) (2.21.5)\n",
            "Requirement already satisfied: nvidia-nvtx-cu12==12.4.127 in /usr/local/lib/python3.11/dist-packages (from torch>=1.11.0->sentence-transformers) (12.4.127)\n",
            "Requirement already satisfied: nvidia-nvjitlink-cu12==12.4.127 in /usr/local/lib/python3.11/dist-packages (from torch>=1.11.0->sentence-transformers) (12.4.127)\n",
            "Requirement already satisfied: triton==3.2.0 in /usr/local/lib/python3.11/dist-packages (from torch>=1.11.0->sentence-transformers) (3.2.0)\n",
            "Requirement already satisfied: mpmath<1.4,>=1.1.0 in /usr/local/lib/python3.11/dist-packages (from sympy->onnxruntime>=1.14.1->chromadb) (1.3.0)\n",
            "Requirement already satisfied: regex!=2019.12.17 in /usr/local/lib/python3.11/dist-packages (from transformers<5.0.0,>=4.41.0->sentence-transformers) (2024.11.6)\n",
            "Requirement already satisfied: safetensors>=0.4.3 in /usr/local/lib/python3.11/dist-packages (from transformers<5.0.0,>=4.41.0->sentence-transformers) (0.6.2)\n",
            "Requirement already satisfied: click>=8.0.0 in /usr/local/lib/python3.11/dist-packages (from typer>=0.9.0->chromadb) (8.2.1)\n",
            "Requirement already satisfied: shellingham>=1.3.0 in /usr/local/lib/python3.11/dist-packages (from typer>=0.9.0->chromadb) (1.5.4)\n",
            "Requirement already satisfied: httptools>=0.6.3 in /usr/local/lib/python3.11/dist-packages (from uvicorn[standard]>=0.18.3->chromadb) (0.6.4)\n",
            "Requirement already satisfied: python-dotenv>=0.13 in /usr/local/lib/python3.11/dist-packages (from uvicorn[standard]>=0.18.3->chromadb) (1.1.1)\n",
            "Requirement already satisfied: uvloop>=0.15.1 in /usr/local/lib/python3.11/dist-packages (from uvicorn[standard]>=0.18.3->chromadb) (0.21.0)\n",
            "Requirement already satisfied: watchfiles>=0.13 in /usr/local/lib/python3.11/dist-packages (from uvicorn[standard]>=0.18.3->chromadb) (1.1.0)\n",
            "Requirement already satisfied: websockets>=10.4 in /usr/local/lib/python3.11/dist-packages (from uvicorn[standard]>=0.18.3->chromadb) (15.0.1)\n",
            "Requirement already satisfied: joblib>=1.2.0 in /usr/local/lib/python3.11/dist-packages (from scikit-learn->sentence-transformers) (1.5.1)\n",
            "Requirement already satisfied: threadpoolctl>=3.1.0 in /usr/local/lib/python3.11/dist-packages (from scikit-learn->sentence-transformers) (3.6.0)\n",
            "Requirement already satisfied: cachetools<6.0,>=2.0.0 in /usr/local/lib/python3.11/dist-packages (from google-auth>=1.0.1->kubernetes>=28.1.0->chromadb) (5.5.2)\n",
            "Requirement already satisfied: pyasn1-modules>=0.2.1 in /usr/local/lib/python3.11/dist-packages (from google-auth>=1.0.1->kubernetes>=28.1.0->chromadb) (0.4.2)\n",
            "Requirement already satisfied: rsa<5,>=3.1.4 in /usr/local/lib/python3.11/dist-packages (from google-auth>=1.0.1->kubernetes>=28.1.0->chromadb) (4.9.1)\n",
            "Requirement already satisfied: zipp>=3.20 in /usr/local/lib/python3.11/dist-packages (from importlib-metadata<8.8.0,>=6.0->opentelemetry-api>=1.2.0->chromadb) (3.23.0)\n",
            "Requirement already satisfied: jsonpointer>=1.9 in /usr/local/lib/python3.11/dist-packages (from jsonpatch<2.0,>=1.33->langchain-core<1.0.0,>=0.3.72->langchain) (3.0.0)\n",
            "Requirement already satisfied: mdurl~=0.1 in /usr/local/lib/python3.11/dist-packages (from markdown-it-py>=2.2.0->rich>=10.11.0->chromadb) (0.1.2)\n",
            "Requirement already satisfied: sniffio>=1.1 in /usr/local/lib/python3.11/dist-packages (from anyio->httpx>=0.27.0->chromadb) (1.3.1)\n",
            "Requirement already satisfied: humanfriendly>=9.1 in /usr/local/lib/python3.11/dist-packages (from coloredlogs->onnxruntime>=1.14.1->chromadb) (10.0)\n",
            "Requirement already satisfied: MarkupSafe>=2.0 in /usr/local/lib/python3.11/dist-packages (from jinja2->torch>=1.11.0->sentence-transformers) (3.0.2)\n",
            "Requirement already satisfied: pyasn1<0.7.0,>=0.6.1 in /usr/local/lib/python3.11/dist-packages (from pyasn1-modules>=0.2.1->google-auth>=1.0.1->kubernetes>=28.1.0->chromadb) (0.6.1)\n"
          ]
        }
      ],
      "source": [
        "pip install chromadb faiss-cpu sentence-transformers langchain"
      ]
    },
    {
      "cell_type": "code",
      "source": [
        "from sentence_transformers import SentenceTransformer\n",
        "import faiss\n",
        "import chromadb\n",
        "import numpy as np\n",
        "import time\n"
      ],
      "metadata": {
        "id": "4LwJSN0pzKG8"
      },
      "execution_count": 5,
      "outputs": []
    },
    {
      "cell_type": "code",
      "source": [
        "queries = [\n",
        "    \"What is the stock price of Apple?\",\n",
        "    \"Show me my portfolio performance\",\n",
        "    \"When is my next SIP due?\",\n",
        "    \"What is the inflation rate in India?\",\n",
        "    \"How can I reduce my credit card debt?\",\n",
        "    \"List my top 5 performing mutual funds\",\n",
        "    \"Predict Tesla stock for next week\",\n",
        "    \"What are my tax saving options?\",\n",
        "    \"Give me my EPF balance\",\n",
        "    \"Compare Nifty and Sensex performance\"\n",
        "]\n",
        "\n",
        "model = SentenceTransformer(\"all-MiniLM-L6-v2\")\n",
        "embeddings = model.encode(queries, convert_to_numpy=True, normalize_embeddings=True)\n",
        "dim = embeddings.shape[1]\n"
      ],
      "metadata": {
        "id": "qBaHb3UjwaWd"
      },
      "execution_count": 6,
      "outputs": []
    },
    {
      "cell_type": "code",
      "source": [
        "# Create FAISS index\n",
        "faiss_index = faiss.IndexFlatL2(dim)\n",
        "faiss_index.add(embeddings)\n",
        "\n",
        "def faiss_search(query, k=3):\n",
        "    start = time.time()\n",
        "    q_emb = model.encode([query], normalize_embeddings=True)\n",
        "    distances, indices = faiss_index.search(q_emb, k)\n",
        "    elapsed = time.time() - start\n",
        "    return [queries[i] for i in indices[0]], elapsed\n",
        "\n",
        "results, time_taken = faiss_search(\"tax saving options\")\n",
        "print(\"FAISS Results:\", results)\n",
        "print(\"FAISS Search Time:\", time_taken, \"seconds\")\n"
      ],
      "metadata": {
        "id": "unu1P56jxB9G",
        "colab": {
          "base_uri": "https://localhost:8080/"
        },
        "outputId": "ad97154d-1865-4e19-dd99-adf41066ea63"
      },
      "execution_count": 7,
      "outputs": [
        {
          "output_type": "stream",
          "name": "stdout",
          "text": [
            "FAISS Results: ['What are my tax saving options?', 'List my top 5 performing mutual funds', 'How can I reduce my credit card debt?']\n",
            "FAISS Search Time: 0.016526460647583008 seconds\n"
          ]
        }
      ]
    },
    {
      "cell_type": "code",
      "source": [
        "client = chromadb.Client()\n",
        "collection = client.create_collection(name=\"financial_queries\")\n",
        "\n",
        "# Insert documents\n",
        "for i, q in enumerate(queries):\n",
        "    collection.add(documents=[q], embeddings=[embeddings[i]], ids=[str(i)])\n",
        "\n",
        "def chroma_search(query, k=3):\n",
        "    start = time.time()\n",
        "    q_emb = model.encode([query], normalize_embeddings=True)\n",
        "    results = collection.query(query_embeddings=q_emb.tolist(), n_results=k)\n",
        "    elapsed = time.time() - start\n",
        "    return results[\"documents\"][0], elapsed\n",
        "\n",
        "results, time_taken = chroma_search(\"tax saving options\")\n",
        "print(\"ChromaDB Results:\", results)\n",
        "print(\"ChromaDB Search Time:\", time_taken, \"seconds\")\n"
      ],
      "metadata": {
        "colab": {
          "base_uri": "https://localhost:8080/"
        },
        "id": "Iyix2jnTzTSn",
        "outputId": "344f2db8-341c-4910-fb28-b9db3c4b4446"
      },
      "execution_count": 8,
      "outputs": [
        {
          "output_type": "stream",
          "name": "stdout",
          "text": [
            "ChromaDB Results: ['What are my tax saving options?', 'List my top 5 performing mutual funds', 'How can I reduce my credit card debt?']\n",
            "ChromaDB Search Time: 0.08368277549743652 seconds\n"
          ]
        }
      ]
    },
    {
      "cell_type": "code",
      "source": [
        "test_query = \"best mutual funds for investment\"\n",
        "faiss_res, faiss_time = faiss_search(test_query)\n",
        "chroma_res, chroma_time = chroma_search(test_query)\n",
        "\n",
        "print(\"\\n🔍 Comparison for Query:\", test_query)\n",
        "print(\"FAISS:\", faiss_res, \"| Time:\", round(faiss_time*1000, 3), \"ms\")\n",
        "print(\"ChromaDB:\", chroma_res, \"| Time:\", round(chroma_time*1000, 3), \"ms\")\n"
      ],
      "metadata": {
        "colab": {
          "base_uri": "https://localhost:8080/"
        },
        "id": "68G8F_WfzYW2",
        "outputId": "6f10383d-bfcf-4f34-a4f2-a6c978fcfd1b"
      },
      "execution_count": 9,
      "outputs": [
        {
          "output_type": "stream",
          "name": "stdout",
          "text": [
            "\n",
            "🔍 Comparison for Query: best mutual funds for investment\n",
            "FAISS: ['List my top 5 performing mutual funds', 'Show me my portfolio performance', 'What are my tax saving options?'] | Time: 20.694 ms\n",
            "ChromaDB: ['List my top 5 performing mutual funds', 'Show me my portfolio performance', 'What are my tax saving options?'] | Time: 16.456 ms\n"
          ]
        }
      ]
    },
    {
      "cell_type": "code",
      "source": [
        "import time\n",
        "import numpy as np\n",
        "import pandas as pd\n",
        "import psutil\n",
        "from sentence_transformers import SentenceTransformer\n",
        "import faiss\n",
        "import chromadb\n",
        "from chromadb.utils import embedding_functions\n",
        "from tabulate import tabulate"
      ],
      "metadata": {
        "id": "o0wkl2J8zdIN"
      },
      "execution_count": 10,
      "outputs": []
    },
    {
      "cell_type": "code",
      "source": [
        "import random\n",
        "import json\n",
        "import re\n",
        "\n",
        "# -------------------------\n",
        "# 1. Define finance topics and phrases\n",
        "# -------------------------\n",
        "user_questions = [\n",
        "    \"What is the current NAV of {}?\",\n",
        "    \"Should I continue my SIP in {}?\",\n",
        "    \"How is my portfolio performing?\",\n",
        "    \"Give me investment advice for {}.\",\n",
        "    \"What is the risk associated with {}?\",\n",
        "    \"How much tax will I pay on my {} gains?\",\n",
        "    \"Can you suggest some good mutual funds?\",\n",
        "    \"What's the trend for {} this month?\",\n",
        "    \"Is it a good time to buy {}?\",\n",
        "    \"How has {} performed historically?\"\n",
        "]\n",
        "\n",
        "assistant_templates = [\n",
        "    \"The NAV for {} as of today is ₹{:.2f}.\",\n",
        "    \"Based on your long-term goals, continuing the SIP in {} seems reasonable.\",\n",
        "    \"{} is currently showing a {} trend.\",\n",
        "    \"The risk for {} is considered {}.\",\n",
        "    \"You may pay around ₹{:.2f} tax on your {} gains this year.\",\n",
        "    \"Based on historical performance, {} could be a suitable choice.\",\n",
        "    \"Your portfolio has gained/lost {:.2f}% over the past month.\",\n",
        "    \"Considering market conditions, investing in {} now seems {}.\",\n",
        "    \"I recommend diversifying your investment across equities, bonds, and funds.\",\n",
        "    \"The historical returns of {} over the last 5 years average {:.2f}% per annum.\"\n",
        "]\n",
        "\n",
        "funds = [\"HDFC Balanced Advantage Fund\", \"ICICI Prudential Bluechip Fund\",\n",
        "         \"SBI Small Cap Fund\", \"Axis Long Term Equity Fund\", \"Nifty 50 ETF\"]\n",
        "\n",
        "risks = [\"low\", \"moderate\", \"high\"]\n",
        "trends = [\"upward\", \"downward\", \"stable\"]\n",
        "time_periods = [\"month\", \"quarter\", \"year\"]\n",
        "\n",
        "# -------------------------\n",
        "# 2. Generate synthetic dataset\n",
        "# -------------------------\n",
        "n_conversations = 2000  # each conversation will have multiple turns\n",
        "synthetic_data = []\n",
        "\n",
        "for conv_id in range(n_conversations):\n",
        "    n_turns = random.randint(2, 6)  # 2–6 turns per conversation\n",
        "    for turn in range(n_turns):\n",
        "        # Alternate roles: user → assistant\n",
        "        if turn % 2 == 0:\n",
        "            q_template = random.choice(user_questions)\n",
        "            fund_choice = random.choice(funds)\n",
        "            question = q_template.format(fund_choice)\n",
        "            synthetic_data.append({\n",
        "                \"role\": \"user\",\n",
        "                \"text\": question\n",
        "            })\n",
        "        else:\n",
        "            a_template = random.choice(assistant_templates)\n",
        "            fund_choice = random.choice(funds)\n",
        "            trend = random.choice(trends)\n",
        "            risk = random.choice(risks)\n",
        "            tax = random.uniform(1000, 5000)\n",
        "            nav = random.uniform(50, 500)\n",
        "            gain = random.uniform(-10, 15)\n",
        "\n",
        "            # Corrected formatting logic\n",
        "            args = []\n",
        "            placeholders = re.findall(r'\\{\\:?\\.?\\d*f?\\}', a_template)\n",
        "\n",
        "            for placeholder in placeholders:\n",
        "                if placeholder == \"{}\":\n",
        "                    args.append(random.choice([fund_choice, trend, risk]))\n",
        "                elif \"{:.2f}\" in placeholder:\n",
        "                    args.append(random.choice([nav, gain, tax]))\n",
        "                else:\n",
        "                    # Handle other potential placeholders if needed\n",
        "                    pass\n",
        "\n",
        "            a_text = a_template.format(*args)\n",
        "\n",
        "            synthetic_data.append({\n",
        "                \"role\": \"assistant\",\n",
        "                \"text\": a_text\n",
        "            })\n",
        "\n",
        "# -------------------------\n",
        "# 3. Save dataset to JSONL\n",
        "# -------------------------\n",
        "with open(\"synthetic_finance_chatbot_dataset.jsonl\", \"w\") as f:\n",
        "    for entry in synthetic_data:\n",
        "        f.write(json.dumps(entry) + \"\\n\")\n",
        "\n",
        "print(f\"Synthetic dataset generated with {len(synthetic_data)} turns.\")"
      ],
      "metadata": {
        "colab": {
          "base_uri": "https://localhost:8080/"
        },
        "id": "lfro1gwYz06A",
        "outputId": "d6031789-8337-4a75-9d6f-2b97dc1e1e15"
      },
      "execution_count": 16,
      "outputs": [
        {
          "output_type": "stream",
          "name": "stdout",
          "text": [
            "Synthetic dataset generated with 8071 turns.\n"
          ]
        }
      ]
    },
    {
      "cell_type": "code",
      "source": [
        "import json\n",
        "import random\n",
        "\n",
        "# Load synthetic dataset\n",
        "dataset_file = \"synthetic_finance_chatbot_dataset.jsonl\"\n",
        "docs = []\n",
        "with open(dataset_file, \"r\") as f:\n",
        "    for i, line in enumerate(f):\n",
        "        entry = json.loads(line)\n",
        "        docs.append({\n",
        "            \"id\": str(i),\n",
        "            \"role\": entry[\"role\"],\n",
        "            \"text\": entry[\"text\"]\n",
        "        })\n",
        "\n",
        "print(f\"Total turns/documents: {len(docs)}\")\n",
        "\n",
        "# Prepare lists for embeddings & FAISS/Chroma\n",
        "doc_texts = [d[\"text\"] for d in docs]\n",
        "doc_ids = [d[\"id\"] for d in docs]\n"
      ],
      "metadata": {
        "colab": {
          "base_uri": "https://localhost:8080/"
        },
        "id": "Wq786NG_1g4W",
        "outputId": "8ab19620-1605-44c3-b408-d93bee54c97e"
      },
      "execution_count": 18,
      "outputs": [
        {
          "output_type": "stream",
          "name": "stdout",
          "text": [
            "Total turns/documents: 8071\n"
          ]
        }
      ]
    },
    {
      "cell_type": "code",
      "source": [
        "from sentence_transformers import SentenceTransformer\n",
        "import numpy as np\n",
        "\n",
        "model = SentenceTransformer(\"all-MiniLM-L6-v2\")\n",
        "embeddings = model.encode(doc_texts, convert_to_numpy=True, show_progress_bar=True)\n",
        "dim = embeddings.shape[1]\n"
      ],
      "metadata": {
        "colab": {
          "base_uri": "https://localhost:8080/",
          "height": 49,
          "referenced_widgets": [
            "97733a4cf29a4e738dad2e7613d34bfb",
            "dd6772f4b0ce4d1ab546c8ef48ee2587",
            "8a0dd02bd0bc4e519d5642143c64d6e1",
            "c7a1dadeebaa47e3a24024d831dcd9f7",
            "65b51fdbe8a64f22a0ee88a7d5a23fe4",
            "28e7d7c09fd14578a73d3c22ce26e508",
            "84d49ef1aaac4f8db59435e1d8e79adb",
            "a87c083bb93c410899204a23c12374e3",
            "f2681440d66f4c688c80df52c4863508",
            "73fd3c0dc9dc4fc4acd16684e8c7a9e4",
            "195367ebb17945989dcdf415f7de5fd1"
          ]
        },
        "id": "_MkabjN01yoW",
        "outputId": "4233ba57-d73a-41d7-afd1-cd068575b780"
      },
      "execution_count": 19,
      "outputs": [
        {
          "output_type": "display_data",
          "data": {
            "text/plain": [
              "Batches:   0%|          | 0/253 [00:00<?, ?it/s]"
            ],
            "application/vnd.jupyter.widget-view+json": {
              "version_major": 2,
              "version_minor": 0,
              "model_id": "97733a4cf29a4e738dad2e7613d34bfb"
            }
          },
          "metadata": {}
        }
      ]
    },
    {
      "cell_type": "code",
      "source": [
        "user_queries = [\n",
        "    \"What is the current NAV of HDFC Balanced Advantage Fund?\",\n",
        "    \"Should I continue my SIP in ICICI Prudential Bluechip Fund?\",\n",
        "    \"How is my portfolio performing this month?\",\n",
        "    \"Give me investment advice for SBI Small Cap Fund.\",\n",
        "    \"What tax will I pay on my gains?\"\n",
        "]\n",
        "\n",
        "query_embeds = model.encode(user_queries, convert_to_numpy=True).astype(\"float32\")\n"
      ],
      "metadata": {
        "id": "2GJaYQ9s114g"
      },
      "execution_count": 20,
      "outputs": []
    },
    {
      "cell_type": "code",
      "source": [
        "# Compute brute-force top-5 indices for each query\n",
        "baseline = [np.argsort(-np.dot(embeddings, q))[:5].tolist() for q in query_embeds]\n",
        "\n",
        "def recall_at_k(hits, baseline, k=5):\n",
        "    correct = sum(len(set(h[:k]) & set(b[:k])) for h, b in zip(hits, baseline))\n",
        "    return round(correct / (len(hits) * k), 4)\n"
      ],
      "metadata": {
        "id": "s4R5gvWu1_Y_"
      },
      "execution_count": 21,
      "outputs": []
    },
    {
      "cell_type": "code",
      "source": [
        "import faiss\n",
        "import time\n",
        "import psutil\n",
        "\n",
        "def get_mem_mb(): return psutil.Process().memory_info().rss / 1024 / 1024\n",
        "\n",
        "start_mem = get_mem_mb()\n",
        "t0 = time.time()\n",
        "\n",
        "faiss_index = faiss.IndexFlatL2(dim)\n",
        "faiss_index.add(embeddings.astype(\"float32\"))\n",
        "\n",
        "faiss_insert = time.time() - t0\n",
        "faiss_mem = get_mem_mb() - start_mem\n",
        "\n",
        "# Search\n",
        "t1 = time.time()\n",
        "_, faiss_res = faiss_index.search(query_embeds, k=5)\n",
        "faiss_search = time.time() - t1\n",
        "faiss_recall = recall_at_k(faiss_res.tolist(), baseline)\n"
      ],
      "metadata": {
        "id": "h7tzpvGd2AxG"
      },
      "execution_count": 22,
      "outputs": []
    },
    {
      "cell_type": "code",
      "source": [
        "import chromadb\n",
        "from chromadb.utils import embedding_functions\n",
        "import math\n",
        "\n",
        "client = chromadb.Client()\n",
        "\n",
        "# Delete the collection if it already exists\n",
        "try:\n",
        "    client.delete_collection(name=\"finance_chatbot\")\n",
        "    print(\"Deleted existing collection 'finance_chatbot'\")\n",
        "except:\n",
        "    print(\"Collection 'finance_chatbot' did not exist, creating new one.\")\n",
        "\n",
        "collection = client.create_collection(name=\"finance_chatbot\")\n",
        "\n",
        "start_mem = get_mem_mb()\n",
        "t0 = time.time()\n",
        "\n",
        "# Determine the maximum batch size\n",
        "max_batch_size = 5461 # The error message indicates this limit\n",
        "\n",
        "# Calculate the number of batches\n",
        "num_batches = math.ceil(len(doc_ids) / max_batch_size)\n",
        "\n",
        "# Add documents in batches\n",
        "for i in range(num_batches):\n",
        "    start_index = i * max_batch_size\n",
        "    end_index = min((i + 1) * max_batch_size, len(doc_ids))\n",
        "\n",
        "    batch_embeddings = embeddings[start_index:end_index].tolist()\n",
        "    batch_documents = doc_texts[start_index:end_index]\n",
        "    batch_ids = doc_ids[start_index:end_index]\n",
        "\n",
        "    collection.add(\n",
        "        embeddings=batch_embeddings,\n",
        "        documents=batch_documents,\n",
        "        ids=batch_ids\n",
        "    )\n",
        "\n",
        "\n",
        "chroma_insert = time.time() - t0\n",
        "chroma_mem = get_mem_mb() - start_mem\n",
        "\n",
        "# Search\n",
        "t1 = time.time()\n",
        "results = collection.query(query_embeddings=query_embeds.tolist(), n_results=5)\n",
        "chroma_search = time.time() - t1\n",
        "\n",
        "# Parse retrieved IDs\n",
        "chroma_res = [[int(i) for i in r] for r in results[\"ids\"]]\n",
        "chroma_recall = recall_at_k(chroma_res, baseline)"
      ],
      "metadata": {
        "colab": {
          "base_uri": "https://localhost:8080/"
        },
        "id": "FRBtGEdv2EEh",
        "outputId": "f5328d40-1c75-4ef3-b0eb-1e379e18970f"
      },
      "execution_count": 25,
      "outputs": [
        {
          "output_type": "stream",
          "name": "stdout",
          "text": [
            "Deleted existing collection 'finance_chatbot'\n"
          ]
        }
      ]
    },
    {
      "cell_type": "code",
      "source": [
        "import pandas as pd\n",
        "from tabulate import tabulate\n",
        "\n",
        "df = pd.DataFrame([\n",
        "    [\"FAISS\", round(faiss_insert,4), round(faiss_search,4), round(faiss_mem,2), faiss_recall],\n",
        "    [\"ChromaDB\", round(chroma_insert,4), round(chroma_search,4), round(chroma_mem,2), chroma_recall]\n",
        "], columns=[\"System\", \"Insert Time (s)\", \"Search Time (s)\", \"Memory (MB)\", \"Recall@5\"])\n",
        "\n",
        "print(tabulate(df, headers=\"keys\", tablefmt=\"fancy_grid\"))\n"
      ],
      "metadata": {
        "colab": {
          "base_uri": "https://localhost:8080/"
        },
        "id": "hcjCnekG2G4b",
        "outputId": "6c578fdd-0fd6-497b-9e2d-023a19008445"
      },
      "execution_count": 26,
      "outputs": [
        {
          "output_type": "stream",
          "name": "stdout",
          "text": [
            "╒════╤══════════╤═══════════════════╤═══════════════════╤═══════════════╤════════════╕\n",
            "│    │ System   │   Insert Time (s) │   Search Time (s) │   Memory (MB) │   Recall@5 │\n",
            "╞════╪══════════╪═══════════════════╪═══════════════════╪═══════════════╪════════════╡\n",
            "│  0 │ FAISS    │            0.0332 │            0.0055 │         23.34 │       0.04 │\n",
            "├────┼──────────┼───────────────────┼───────────────────┼───────────────┼────────────┤\n",
            "│  1 │ ChromaDB │            6.6706 │            0.0058 │        109.79 │       0    │\n",
            "╘════╧══════════╧═══════════════════╧═══════════════════╧═══════════════╧════════════╛\n"
          ]
        }
      ]
    },
    {
      "cell_type": "code",
      "source": [
        "context_docs = []\n",
        "context_texts = []\n",
        "\n",
        "# We'll build documents as: previous 1 turn context + current assistant response\n",
        "for i in range(len(docs)):\n",
        "    if docs[i][\"role\"] == \"assistant\":\n",
        "        # Take previous user turn as context\n",
        "        prev_context = \"\"\n",
        "        if i > 0 and docs[i-1][\"role\"] == \"user\":\n",
        "            prev_context = docs[i-1][\"text\"]\n",
        "        combined_text = prev_context + \" \" + docs[i][\"text\"]\n",
        "        context_docs.append(docs[i][\"id\"])\n",
        "        context_texts.append(combined_text)\n"
      ],
      "metadata": {
        "id": "o2IRgYez2dGy"
      },
      "execution_count": 27,
      "outputs": []
    },
    {
      "cell_type": "code",
      "source": [
        "context_docs = []\n",
        "context_texts = []\n",
        "\n",
        "# We'll build documents as: previous 1 turn context + current assistant response\n",
        "for i in range(len(docs)):\n",
        "    if docs[i][\"role\"] == \"assistant\":\n",
        "        # Take previous user turn as context\n",
        "        prev_context = \"\"\n",
        "        if i > 0 and docs[i-1][\"role\"] == \"user\":\n",
        "            prev_context = docs[i-1][\"text\"]\n",
        "        combined_text = prev_context + \" \" + docs[i][\"text\"]\n",
        "        context_docs.append(docs[i][\"id\"])\n",
        "        context_texts.append(combined_text)\n"
      ],
      "metadata": {
        "id": "MG4wprDB3HM0"
      },
      "execution_count": 28,
      "outputs": []
    },
    {
      "cell_type": "code",
      "source": [
        "context_embeddings = model.encode(context_texts, convert_to_numpy=True, show_progress_bar=True)\n",
        "dim = context_embeddings.shape[1]\n"
      ],
      "metadata": {
        "colab": {
          "base_uri": "https://localhost:8080/",
          "height": 49,
          "referenced_widgets": [
            "26fc03412deb40a08ebea54bc01fb4f6",
            "badcfcfad9f844f0818c9bfb452f5d9d",
            "5bbcaf2b12ea483bbc8c2c49cacb0ed2",
            "6dec797ded8f4878b8919240047f262e",
            "9c94794f947848edbeff7fcedaf92076",
            "42ce852fcbe4470fba8d9afacff532e6",
            "33264d4ebcf84c738979a68480113145",
            "ba697f45776b4a7e94656be00d5cde8d",
            "7372a3b9e31342d0a3caf582606d1a0d",
            "c59063c30a6e4fb69211ced6722ba3d4",
            "237c39387f234adfa9f1c0ffe4bb5879"
          ]
        },
        "id": "reBshfjl3JAq",
        "outputId": "f4f9752f-e322-4829-84d6-f83b1ffbc1d8"
      },
      "execution_count": 29,
      "outputs": [
        {
          "output_type": "display_data",
          "data": {
            "text/plain": [
              "Batches:   0%|          | 0/114 [00:00<?, ?it/s]"
            ],
            "application/vnd.jupyter.widget-view+json": {
              "version_major": 2,
              "version_minor": 0,
              "model_id": "26fc03412deb40a08ebea54bc01fb4f6"
            }
          },
          "metadata": {}
        }
      ]
    },
    {
      "cell_type": "code",
      "source": [
        "user_queries = [\n",
        "    \"What is the current NAV of HDFC Balanced Advantage Fund?\",\n",
        "    \"Should I continue my SIP in ICICI Prudential Bluechip Fund?\",\n",
        "    \"How is my portfolio performing this month?\",\n",
        "    \"Give me investment advice for SBI Small Cap Fund.\",\n",
        "    \"What tax will I pay on my gains?\"\n",
        "]\n",
        "\n",
        "query_embeds = model.encode(user_queries, convert_to_numpy=True).astype(\"float32\")\n"
      ],
      "metadata": {
        "id": "FQ7wN-NZ3Kuv"
      },
      "execution_count": 30,
      "outputs": []
    },
    {
      "cell_type": "code",
      "source": [
        "baseline = [np.argsort(-np.dot(context_embeddings, q))[:5].tolist() for q in query_embeds]\n",
        "\n",
        "def recall_at_k(hits, baseline, k=5):\n",
        "    correct = sum(len(set(h[:k]) & set(b[:k])) for h, b in zip(hits, baseline))\n",
        "    return round(correct / (len(hits) * k), 4)\n"
      ],
      "metadata": {
        "id": "k_TDbDpz3OOz"
      },
      "execution_count": 31,
      "outputs": []
    },
    {
      "cell_type": "code",
      "source": [
        "import faiss\n",
        "import psutil\n",
        "import time\n",
        "\n",
        "def get_mem_mb(): return psutil.Process().memory_info().rss / 1024 / 1024\n",
        "\n",
        "start_mem = get_mem_mb()\n",
        "t0 = time.time()\n",
        "\n",
        "faiss_index = faiss.IndexFlatL2(dim)\n",
        "faiss_index.add(context_embeddings.astype(\"float32\"))\n",
        "\n",
        "faiss_insert = time.time() - t0\n",
        "faiss_mem = get_mem_mb() - start_mem\n",
        "\n",
        "# Search\n",
        "t1 = time.time()\n",
        "_, faiss_res = faiss_index.search(query_embeds, k=5)\n",
        "faiss_search = time.time() - t1\n",
        "faiss_recall = recall_at_k(faiss_res.tolist(), baseline)\n"
      ],
      "metadata": {
        "id": "S7GMhLyp3Qz8"
      },
      "execution_count": 32,
      "outputs": []
    },
    {
      "cell_type": "code",
      "source": [
        "import chromadb\n",
        "\n",
        "client = chromadb.Client()\n",
        "collection = client.create_collection(name=\"finance_chatbot_context\")\n",
        "\n",
        "start_mem = get_mem_mb()\n",
        "t0 = time.time()\n",
        "\n",
        "collection.add(\n",
        "    embeddings=context_embeddings.tolist(),\n",
        "    documents=context_texts,\n",
        "    ids=context_docs\n",
        ")\n",
        "\n",
        "chroma_insert = time.time() - t0\n",
        "chroma_mem = get_mem_mb() - start_mem\n",
        "\n",
        "# Search\n",
        "t1 = time.time()\n",
        "results = collection.query(query_embeddings=query_embeds.tolist(), n_results=5)\n",
        "chroma_search = time.time() - t1\n",
        "\n",
        "# Parse retrieved IDs\n",
        "chroma_res = [[int(i) for i in r] for r in results[\"ids\"]]\n",
        "chroma_recall = recall_at_k(chroma_res, baseline)\n"
      ],
      "metadata": {
        "id": "yVe-vGXN3Slp"
      },
      "execution_count": 33,
      "outputs": []
    },
    {
      "cell_type": "code",
      "source": [
        "import pandas as pd\n",
        "from tabulate import tabulate\n",
        "\n",
        "df = pd.DataFrame([\n",
        "    [\"FAISS\", round(faiss_insert,4), round(faiss_search,4), round(faiss_mem,2), faiss_recall],\n",
        "    [\"ChromaDB\", round(chroma_insert,4), round(chroma_search,4), round(chroma_mem,2), chroma_recall]\n",
        "], columns=[\"System\", \"Insert Time (s)\", \"Search Time (s)\", \"Memory (MB)\", \"Recall@5\"])\n",
        "\n",
        "print(tabulate(df, headers=\"keys\", tablefmt=\"fancy_grid\"))\n"
      ],
      "metadata": {
        "colab": {
          "base_uri": "https://localhost:8080/"
        },
        "id": "0h_H9s9r3bkA",
        "outputId": "16e9fa67-fa6f-451d-e16e-c0776163aa58"
      },
      "execution_count": 34,
      "outputs": [
        {
          "output_type": "stream",
          "name": "stdout",
          "text": [
            "╒════╤══════════╤═══════════════════╤═══════════════════╤═══════════════╤════════════╕\n",
            "│    │ System   │   Insert Time (s) │   Search Time (s) │   Memory (MB) │   Recall@5 │\n",
            "╞════╪══════════╪═══════════════════╪═══════════════════╪═══════════════╪════════════╡\n",
            "│  0 │ FAISS    │            0.0107 │            0.0024 │         10.24 │       0.92 │\n",
            "├────┼──────────┼───────────────────┼───────────────────┼───────────────┼────────────┤\n",
            "│  1 │ ChromaDB │            2.9617 │            0.007  │         15.59 │       0    │\n",
            "╘════╧══════════╧═══════════════════╧═══════════════════╧═══════════════╧════════════╛\n"
          ]
        }
      ]
    },
    {
      "cell_type": "code",
      "source": [],
      "metadata": {
        "id": "SOCCNpEH3eQR"
      },
      "execution_count": null,
      "outputs": []
    }
  ]
}